{
 "cells": [
  {
   "cell_type": "code",
   "execution_count": 4,
   "metadata": {},
   "outputs": [
    {
     "name": "stdout",
     "output_type": "stream",
     "text": [
      "Collecting tensorflow\n",
      "  Downloading tensorflow-2.10.0-cp39-cp39-win_amd64.whl (455.9 MB)\n",
      "     ---------------------------------------- 455.9/455.9 MB 241.7 kB/s eta 0:00:00\n",
      "Collecting wrapt>=1.11.0\n",
      "  Downloading wrapt-1.14.1-cp39-cp39-win_amd64.whl (35 kB)\n",
      "Collecting tensorflow-io-gcs-filesystem>=0.23.1\n",
      "  Downloading tensorflow_io_gcs_filesystem-0.27.0-cp39-cp39-win_amd64.whl (1.5 MB)\n",
      "     ---------------------------------------- 1.5/1.5 MB 462.4 kB/s eta 0:00:00\n",
      "Collecting tensorboard<2.11,>=2.10\n",
      "  Downloading tensorboard-2.10.1-py3-none-any.whl (5.9 MB)\n",
      "     ---------------------------------------- 5.9/5.9 MB 701.4 kB/s eta 0:00:00\n",
      "Collecting absl-py>=1.0.0\n",
      "  Downloading absl_py-1.2.0-py3-none-any.whl (123 kB)\n",
      "     ---------------------------------------- 123.4/123.4 kB 516.5 kB/s eta 0:00:00\n",
      "Collecting tensorflow-estimator<2.11,>=2.10.0\n",
      "  Downloading tensorflow_estimator-2.10.0-py2.py3-none-any.whl (438 kB)\n",
      "     ---------------------------------------- 438.7/438.7 kB 638.5 kB/s eta 0:00:00\n",
      "Collecting astunparse>=1.6.0\n",
      "  Downloading astunparse-1.6.3-py2.py3-none-any.whl (12 kB)\n",
      "Collecting protobuf<3.20,>=3.9.2\n",
      "  Downloading protobuf-3.19.6-cp39-cp39-win_amd64.whl (895 kB)\n",
      "     ---------------------------------------- 895.9/895.9 kB 623.2 kB/s eta 0:00:00\n",
      "Requirement already satisfied: typing-extensions>=3.6.6 in c:\\users\\kbum0\\miniconda3\\lib\\site-packages (from tensorflow) (3.10.0.2)\n",
      "Collecting termcolor>=1.1.0\n",
      "  Downloading termcolor-2.0.1-py3-none-any.whl (5.4 kB)\n",
      "Requirement already satisfied: numpy>=1.20 in c:\\users\\kbum0\\miniconda3\\lib\\site-packages (from tensorflow) (1.22.1)\n",
      "Requirement already satisfied: setuptools in c:\\users\\kbum0\\miniconda3\\lib\\site-packages (from tensorflow) (52.0.0.post20210125)\n",
      "Collecting flatbuffers>=2.0\n",
      "  Downloading flatbuffers-22.9.24-py2.py3-none-any.whl (26 kB)\n",
      "Collecting h5py>=2.9.0\n",
      "  Downloading h5py-3.7.0-cp39-cp39-win_amd64.whl (2.6 MB)\n",
      "     ---------------------------------------- 2.6/2.6 MB 628.9 kB/s eta 0:00:00\n",
      "Collecting gast<=0.4.0,>=0.2.1\n",
      "  Downloading gast-0.4.0-py3-none-any.whl (9.8 kB)\n",
      "Collecting libclang>=13.0.0\n",
      "  Downloading libclang-14.0.6-py2.py3-none-win_amd64.whl (14.2 MB)\n",
      "     ---------------------------------------- 14.2/14.2 MB 196.6 kB/s eta 0:00:00\n",
      "Collecting keras<2.11,>=2.10.0\n",
      "  Downloading keras-2.10.0-py2.py3-none-any.whl (1.7 MB)\n",
      "     ---------------------------------------- 1.7/1.7 MB 161.6 kB/s eta 0:00:00\n",
      "Requirement already satisfied: packaging in c:\\users\\kbum0\\miniconda3\\lib\\site-packages (from tensorflow) (21.3)\n",
      "Collecting opt-einsum>=2.3.2\n",
      "  Downloading opt_einsum-3.3.0-py3-none-any.whl (65 kB)\n",
      "     ---------------------------------------- 65.5/65.5 kB 587.7 kB/s eta 0:00:00\n",
      "Requirement already satisfied: six>=1.12.0 in c:\\users\\kbum0\\miniconda3\\lib\\site-packages (from tensorflow) (1.16.0)\n",
      "Collecting google-pasta>=0.1.1\n",
      "  Downloading google_pasta-0.2.0-py3-none-any.whl (57 kB)\n",
      "     ---------------------------------------- 57.5/57.5 kB 302.8 kB/s eta 0:00:00\n",
      "Collecting keras-preprocessing>=1.1.1\n",
      "  Downloading Keras_Preprocessing-1.1.2-py2.py3-none-any.whl (42 kB)\n",
      "     ---------------------------------------- 42.6/42.6 kB 159.3 kB/s eta 0:00:00\n",
      "Collecting grpcio<2.0,>=1.24.3\n",
      "  Downloading grpcio-1.49.1-cp39-cp39-win_amd64.whl (3.6 MB)\n",
      "     ---------------------------------------- 3.6/3.6 MB 297.2 kB/s eta 0:00:00\n",
      "Requirement already satisfied: wheel<1.0,>=0.23.0 in c:\\users\\kbum0\\miniconda3\\lib\\site-packages (from astunparse>=1.6.0->tensorflow) (0.36.2)\n",
      "Collecting tensorboard-plugin-wit>=1.6.0\n",
      "  Downloading tensorboard_plugin_wit-1.8.1-py3-none-any.whl (781 kB)\n",
      "     ---------------------------------------- 781.3/781.3 kB 146.0 kB/s eta 0:00:00\n",
      "Requirement already satisfied: requests<3,>=2.21.0 in c:\\users\\kbum0\\miniconda3\\lib\\site-packages (from tensorboard<2.11,>=2.10->tensorflow) (2.25.1)\n",
      "Collecting google-auth<3,>=1.6.3\n",
      "  Downloading google_auth-2.12.0-py2.py3-none-any.whl (169 kB)\n",
      "     ---------------------------------------- 169.8/169.8 kB 83.6 kB/s eta 0:00:00\n",
      "Collecting tensorboard-data-server<0.7.0,>=0.6.0\n",
      "  Downloading tensorboard_data_server-0.6.1-py3-none-any.whl (2.4 kB)\n",
      "Collecting google-auth-oauthlib<0.5,>=0.4.1\n",
      "  Downloading google_auth_oauthlib-0.4.6-py2.py3-none-any.whl (18 kB)\n",
      "Collecting markdown>=2.6.8\n",
      "  Downloading Markdown-3.4.1-py3-none-any.whl (93 kB)\n",
      "     ---------------------------------------- 93.3/93.3 kB 161.0 kB/s eta 0:00:00\n",
      "Requirement already satisfied: werkzeug>=1.0.1 in c:\\users\\kbum0\\miniconda3\\lib\\site-packages (from tensorboard<2.11,>=2.10->tensorflow) (2.2.2)\n",
      "Requirement already satisfied: pyparsing!=3.0.5,>=2.0.2 in c:\\users\\kbum0\\miniconda3\\lib\\site-packages (from packaging->tensorflow) (3.0.4)\n",
      "Collecting cachetools<6.0,>=2.0.0\n",
      "  Downloading cachetools-5.2.0-py3-none-any.whl (9.3 kB)\n",
      "Collecting pyasn1-modules>=0.2.1\n",
      "  Downloading pyasn1_modules-0.2.8-py2.py3-none-any.whl (155 kB)\n",
      "     ---------------------------------------- 155.3/155.3 kB 309.2 kB/s eta 0:00:00\n",
      "Collecting rsa<5,>=3.1.4\n",
      "  Downloading rsa-4.9-py3-none-any.whl (34 kB)\n",
      "Collecting requests-oauthlib>=0.7.0\n",
      "  Downloading requests_oauthlib-1.3.1-py2.py3-none-any.whl (23 kB)\n",
      "Requirement already satisfied: importlib-metadata>=4.4 in c:\\users\\kbum0\\miniconda3\\lib\\site-packages (from markdown>=2.6.8->tensorboard<2.11,>=2.10->tensorflow) (4.8.2)\n",
      "Requirement already satisfied: certifi>=2017.4.17 in c:\\users\\kbum0\\miniconda3\\lib\\site-packages (from requests<3,>=2.21.0->tensorboard<2.11,>=2.10->tensorflow) (2022.6.15)\n",
      "Requirement already satisfied: chardet<5,>=3.0.2 in c:\\users\\kbum0\\miniconda3\\lib\\site-packages (from requests<3,>=2.21.0->tensorboard<2.11,>=2.10->tensorflow) (4.0.0)\n",
      "Requirement already satisfied: idna<3,>=2.5 in c:\\users\\kbum0\\miniconda3\\lib\\site-packages (from requests<3,>=2.21.0->tensorboard<2.11,>=2.10->tensorflow) (2.10)\n",
      "Requirement already satisfied: urllib3<1.27,>=1.21.1 in c:\\users\\kbum0\\miniconda3\\lib\\site-packages (from requests<3,>=2.21.0->tensorboard<2.11,>=2.10->tensorflow) (1.26.6)\n",
      "Requirement already satisfied: MarkupSafe>=2.1.1 in c:\\users\\kbum0\\miniconda3\\lib\\site-packages (from werkzeug>=1.0.1->tensorboard<2.11,>=2.10->tensorflow) (2.1.1)\n",
      "Requirement already satisfied: zipp>=0.5 in c:\\users\\kbum0\\miniconda3\\lib\\site-packages (from importlib-metadata>=4.4->markdown>=2.6.8->tensorboard<2.11,>=2.10->tensorflow) (3.7.0)\n",
      "Collecting pyasn1<0.5.0,>=0.4.6\n",
      "  Downloading pyasn1-0.4.8-py2.py3-none-any.whl (77 kB)\n",
      "     ---------------------------------------- 77.1/77.1 kB 608.2 kB/s eta 0:00:00\n",
      "Collecting oauthlib>=3.0.0\n",
      "  Downloading oauthlib-3.2.1-py3-none-any.whl (151 kB)\n",
      "     ---------------------------------------- 151.7/151.7 kB 312.2 kB/s eta 0:00:00\n",
      "Installing collected packages: tensorboard-plugin-wit, pyasn1, libclang, keras, flatbuffers, wrapt, termcolor, tensorflow-io-gcs-filesystem, tensorflow-estimator, tensorboard-data-server, rsa, pyasn1-modules, protobuf, opt-einsum, oauthlib, keras-preprocessing, h5py, grpcio, google-pasta, gast, cachetools, astunparse, absl-py, requests-oauthlib, markdown, google-auth, google-auth-oauthlib, tensorboard, tensorflow\n",
      "Successfully installed absl-py-1.2.0 astunparse-1.6.3 cachetools-5.2.0 flatbuffers-22.9.24 gast-0.4.0 google-auth-2.12.0 google-auth-oauthlib-0.4.6 google-pasta-0.2.0 grpcio-1.49.1 h5py-3.7.0 keras-2.10.0 keras-preprocessing-1.1.2 libclang-14.0.6 markdown-3.4.1 oauthlib-3.2.1 opt-einsum-3.3.0 protobuf-3.19.6 pyasn1-0.4.8 pyasn1-modules-0.2.8 requests-oauthlib-1.3.1 rsa-4.9 tensorboard-2.10.1 tensorboard-data-server-0.6.1 tensorboard-plugin-wit-1.8.1 tensorflow-2.10.0 tensorflow-estimator-2.10.0 tensorflow-io-gcs-filesystem-0.27.0 termcolor-2.0.1 wrapt-1.14.1\n",
      "Collecting tensorflow\n",
      "  Downloading tensorflow-2.10.0-cp39-cp39-win_amd64.whl (455.9 MB)\n",
      "     ---------------------------------------- 455.9/455.9 MB 605.3 kB/s eta 0:00:00\n",
      "Collecting flatbuffers>=2.0\n",
      "  Using cached flatbuffers-22.9.24-py2.py3-none-any.whl (26 kB)\n",
      "Requirement already satisfied: numpy>=1.20 in c:\\users\\kbum0\\miniconda3\\lib\\site-packages (from tensorflow) (1.22.1)\n",
      "Collecting libclang>=13.0.0\n",
      "  Using cached libclang-14.0.6-py2.py3-none-win_amd64.whl (14.2 MB)\n",
      "Collecting tensorflow-estimator<2.11,>=2.10.0\n",
      "  Using cached tensorflow_estimator-2.10.0-py2.py3-none-any.whl (438 kB)\n",
      "Collecting h5py>=2.9.0\n",
      "  Using cached h5py-3.7.0-cp39-cp39-win_amd64.whl (2.6 MB)\n",
      "Collecting protobuf<3.20,>=3.9.2\n",
      "  Using cached protobuf-3.19.6-cp39-cp39-win_amd64.whl (895 kB)\n",
      "Collecting termcolor>=1.1.0\n",
      "  Using cached termcolor-2.0.1-py3-none-any.whl (5.4 kB)\n",
      "Collecting wrapt>=1.11.0\n",
      "  Using cached wrapt-1.14.1-cp39-cp39-win_amd64.whl (35 kB)\n",
      "Collecting absl-py>=1.0.0\n",
      "  Using cached absl_py-1.2.0-py3-none-any.whl (123 kB)\n",
      "Collecting keras-preprocessing>=1.1.1\n",
      "  Using cached Keras_Preprocessing-1.1.2-py2.py3-none-any.whl (42 kB)\n",
      "Collecting tensorflow-io-gcs-filesystem>=0.23.1\n",
      "  Using cached tensorflow_io_gcs_filesystem-0.27.0-cp39-cp39-win_amd64.whl (1.5 MB)\n",
      "Collecting google-pasta>=0.1.1\n",
      "  Using cached google_pasta-0.2.0-py3-none-any.whl (57 kB)\n",
      "Collecting astunparse>=1.6.0\n",
      "  Using cached astunparse-1.6.3-py2.py3-none-any.whl (12 kB)\n",
      "Requirement already satisfied: setuptools in c:\\users\\kbum0\\miniconda3\\lib\\site-packages (from tensorflow) (52.0.0.post20210125)\n",
      "Collecting keras<2.11,>=2.10.0\n",
      "  Using cached keras-2.10.0-py2.py3-none-any.whl (1.7 MB)\n",
      "Requirement already satisfied: typing-extensions>=3.6.6 in c:\\users\\kbum0\\miniconda3\\lib\\site-packages (from tensorflow) (3.10.0.2)\n",
      "Collecting tensorboard<2.11,>=2.10\n",
      "  Using cached tensorboard-2.10.1-py3-none-any.whl (5.9 MB)\n",
      "Collecting opt-einsum>=2.3.2\n",
      "  Using cached opt_einsum-3.3.0-py3-none-any.whl (65 kB)\n",
      "Requirement already satisfied: six>=1.12.0 in c:\\users\\kbum0\\miniconda3\\lib\\site-packages (from tensorflow) (1.16.0)\n",
      "Requirement already satisfied: packaging in c:\\users\\kbum0\\miniconda3\\lib\\site-packages (from tensorflow) (21.3)\n",
      "Collecting grpcio<2.0,>=1.24.3\n",
      "  Using cached grpcio-1.49.1-cp39-cp39-win_amd64.whl (3.6 MB)\n",
      "Collecting gast<=0.4.0,>=0.2.1\n",
      "Note: you may need to restart the kernel to use updated packages.  Using cached gast-0.4.0-py3-none-any.whl (9.8 kB)\n",
      "\n",
      "Requirement already satisfied: wheel<1.0,>=0.23.0 in c:\\users\\kbum0\\miniconda3\\lib\\site-packages (from astunparse>=1.6.0->tensorflow) (0.36.2)\n",
      "Collecting tensorboard-data-server<0.7.0,>=0.6.0\n",
      "  Using cached tensorboard_data_server-0.6.1-py3-none-any.whl (2.4 kB)\n",
      "Collecting google-auth<3,>=1.6.3\n",
      "  Using cached google_auth-2.12.0-py2.py3-none-any.whl (169 kB)\n",
      "Requirement already satisfied: requests<3,>=2.21.0 in c:\\users\\kbum0\\miniconda3\\lib\\site-packages (from tensorboard<2.11,>=2.10->tensorflow) (2.25.1)\n",
      "Collecting google-auth-oauthlib<0.5,>=0.4.1\n",
      "  Using cached google_auth_oauthlib-0.4.6-py2.py3-none-any.whl (18 kB)\n",
      "Collecting tensorboard-plugin-wit>=1.6.0\n",
      "  Using cached tensorboard_plugin_wit-1.8.1-py3-none-any.whl (781 kB)\n",
      "Requirement already satisfied: werkzeug>=1.0.1 in c:\\users\\kbum0\\miniconda3\\lib\\site-packages (from tensorboard<2.11,>=2.10->tensorflow) (2.2.2)\n",
      "Collecting markdown>=2.6.8\n",
      "  Using cached Markdown-3.4.1-py3-none-any.whl (93 kB)\n",
      "Requirement already satisfied: pyparsing!=3.0.5,>=2.0.2 in c:\\users\\kbum0\\miniconda3\\lib\\site-packages (from packaging->tensorflow) (3.0.4)\n",
      "Collecting cachetools<6.0,>=2.0.0\n",
      "  Using cached cachetools-5.2.0-py3-none-any.whl (9.3 kB)\n",
      "Collecting pyasn1-modules>=0.2.1\n",
      "  Using cached pyasn1_modules-0.2.8-py2.py3-none-any.whl (155 kB)\n",
      "Collecting rsa<5,>=3.1.4\n",
      "  Using cached rsa-4.9-py3-none-any.whl (34 kB)\n",
      "Collecting requests-oauthlib>=0.7.0\n",
      "  Using cached requests_oauthlib-1.3.1-py2.py3-none-any.whl (23 kB)\n",
      "Requirement already satisfied: importlib-metadata>=4.4 in c:\\users\\kbum0\\miniconda3\\lib\\site-packages (from markdown>=2.6.8->tensorboard<2.11,>=2.10->tensorflow) (4.8.2)\n",
      "Requirement already satisfied: urllib3<1.27,>=1.21.1 in c:\\users\\kbum0\\miniconda3\\lib\\site-packages (from requests<3,>=2.21.0->tensorboard<2.11,>=2.10->tensorflow) (1.26.6)\n",
      "Requirement already satisfied: chardet<5,>=3.0.2 in c:\\users\\kbum0\\miniconda3\\lib\\site-packages (from requests<3,>=2.21.0->tensorboard<2.11,>=2.10->tensorflow) (4.0.0)\n",
      "Requirement already satisfied: certifi>=2017.4.17 in c:\\users\\kbum0\\miniconda3\\lib\\site-packages (from requests<3,>=2.21.0->tensorboard<2.11,>=2.10->tensorflow) (2022.6.15)\n",
      "Requirement already satisfied: idna<3,>=2.5 in c:\\users\\kbum0\\miniconda3\\lib\\site-packages (from requests<3,>=2.21.0->tensorboard<2.11,>=2.10->tensorflow) (2.10)\n",
      "Requirement already satisfied: MarkupSafe>=2.1.1 in c:\\users\\kbum0\\miniconda3\\lib\\site-packages (from werkzeug>=1.0.1->tensorboard<2.11,>=2.10->tensorflow) (2.1.1)\n",
      "Requirement already satisfied: zipp>=0.5 in c:\\users\\kbum0\\miniconda3\\lib\\site-packages (from importlib-metadata>=4.4->markdown>=2.6.8->tensorboard<2.11,>=2.10->tensorflow) (3.7.0)\n",
      "Collecting pyasn1<0.5.0,>=0.4.6\n",
      "  Using cached pyasn1-0.4.8-py2.py3-none-any.whl (77 kB)\n",
      "Collecting oauthlib>=3.0.0\n",
      "  Using cached oauthlib-3.2.1-py3-none-any.whl (151 kB)\n",
      "Installing collected packages: tensorboard-plugin-wit, pyasn1, libclang, keras, flatbuffers, wrapt, termcolor, tensorflow-io-gcs-filesystem, tensorflow-estimator, tensorboard-data-server, rsa, pyasn1-modules, protobuf, opt-einsum, oauthlib, keras-preprocessing, h5py, grpcio, google-pasta, gast, cachetools, astunparse, absl-py, requests-oauthlib, markdown, google-auth, google-auth-oauthlib, tensorboard, tensorflow\n",
      "Successfully installed absl-py-1.2.0 astunparse-1.6.3 cachetools-5.2.0 flatbuffers-22.9.24 gast-0.4.0 google-auth-2.12.0 google-auth-oauthlib-0.4.6 google-pasta-0.2.0 grpcio-1.49.1 h5py-3.7.0 keras-2.10.0 keras-preprocessing-1.1.2 libclang-14.0.6 markdown-3.4.1 oauthlib-3.2.1 opt-einsum-3.3.0 protobuf-3.19.6 pyasn1-0.4.8 pyasn1-modules-0.2.8 requests-oauthlib-1.3.1 rsa-4.9 tensorboard-2.10.1 tensorboard-data-server-0.6.1 tensorboard-plugin-wit-1.8.1 tensorflow-2.10.0 tensorflow-estimator-2.10.0 tensorflow-io-gcs-filesystem-0.27.0 termcolor-2.0.1 wrapt-1.14.1\n"
     ]
    }
   ],
   "source": [
    "pip install tensorflow"
   ]
  },
  {
   "cell_type": "code",
   "execution_count": 5,
   "metadata": {
    "id": "22UZuhWkLtVt"
   },
   "outputs": [],
   "source": [
    "import numpy as np\n",
    "import pandas as pd\n",
    "import tensorflow as tf\n",
    "from tensorflow.keras import layers  # 모듈(변수나 함수를 포함)만 불러오기\n",
    "\n",
    "# BMI 데이터를 읽어 들이고 정규화하기\n",
    "df = pd.read_csv(\"bmi.csv\")    "
   ]
  },
  {
   "cell_type": "code",
   "execution_count": 6,
   "metadata": {
    "colab": {
     "base_uri": "https://localhost:8080/",
     "height": 424
    },
    "id": "3GAFF1QOk58E",
    "outputId": "333e58a1-4a26-4f5e-b366-a5efc04501b3"
   },
   "outputs": [
    {
     "data": {
      "text/html": [
       "<div>\n",
       "<style scoped>\n",
       "    .dataframe tbody tr th:only-of-type {\n",
       "        vertical-align: middle;\n",
       "    }\n",
       "\n",
       "    .dataframe tbody tr th {\n",
       "        vertical-align: top;\n",
       "    }\n",
       "\n",
       "    .dataframe thead th {\n",
       "        text-align: right;\n",
       "    }\n",
       "</style>\n",
       "<table border=\"1\" class=\"dataframe\">\n",
       "  <thead>\n",
       "    <tr style=\"text-align: right;\">\n",
       "      <th></th>\n",
       "      <th>height</th>\n",
       "      <th>weight</th>\n",
       "      <th>label</th>\n",
       "    </tr>\n",
       "  </thead>\n",
       "  <tbody>\n",
       "    <tr>\n",
       "      <th>0</th>\n",
       "      <td>142</td>\n",
       "      <td>62</td>\n",
       "      <td>fat</td>\n",
       "    </tr>\n",
       "    <tr>\n",
       "      <th>1</th>\n",
       "      <td>142</td>\n",
       "      <td>73</td>\n",
       "      <td>fat</td>\n",
       "    </tr>\n",
       "    <tr>\n",
       "      <th>2</th>\n",
       "      <td>177</td>\n",
       "      <td>61</td>\n",
       "      <td>normal</td>\n",
       "    </tr>\n",
       "    <tr>\n",
       "      <th>3</th>\n",
       "      <td>187</td>\n",
       "      <td>48</td>\n",
       "      <td>thin</td>\n",
       "    </tr>\n",
       "    <tr>\n",
       "      <th>4</th>\n",
       "      <td>153</td>\n",
       "      <td>60</td>\n",
       "      <td>fat</td>\n",
       "    </tr>\n",
       "    <tr>\n",
       "      <th>...</th>\n",
       "      <td>...</td>\n",
       "      <td>...</td>\n",
       "      <td>...</td>\n",
       "    </tr>\n",
       "    <tr>\n",
       "      <th>19995</th>\n",
       "      <td>122</td>\n",
       "      <td>58</td>\n",
       "      <td>fat</td>\n",
       "    </tr>\n",
       "    <tr>\n",
       "      <th>19996</th>\n",
       "      <td>193</td>\n",
       "      <td>69</td>\n",
       "      <td>normal</td>\n",
       "    </tr>\n",
       "    <tr>\n",
       "      <th>19997</th>\n",
       "      <td>193</td>\n",
       "      <td>37</td>\n",
       "      <td>thin</td>\n",
       "    </tr>\n",
       "    <tr>\n",
       "      <th>19998</th>\n",
       "      <td>195</td>\n",
       "      <td>51</td>\n",
       "      <td>thin</td>\n",
       "    </tr>\n",
       "    <tr>\n",
       "      <th>19999</th>\n",
       "      <td>163</td>\n",
       "      <td>67</td>\n",
       "      <td>normal</td>\n",
       "    </tr>\n",
       "  </tbody>\n",
       "</table>\n",
       "<p>20000 rows × 3 columns</p>\n",
       "</div>"
      ],
      "text/plain": [
       "       height  weight   label\n",
       "0         142      62     fat\n",
       "1         142      73     fat\n",
       "2         177      61  normal\n",
       "3         187      48    thin\n",
       "4         153      60     fat\n",
       "...       ...     ...     ...\n",
       "19995     122      58     fat\n",
       "19996     193      69  normal\n",
       "19997     193      37    thin\n",
       "19998     195      51    thin\n",
       "19999     163      67  normal\n",
       "\n",
       "[20000 rows x 3 columns]"
      ]
     },
     "execution_count": 6,
     "metadata": {},
     "output_type": "execute_result"
    }
   ],
   "source": [
    "df"
   ]
  },
  {
   "cell_type": "code",
   "execution_count": 7,
   "metadata": {
    "id": "WaC6EJH_kwwz"
   },
   "outputs": [],
   "source": [
    "# 몸무게와 키 데이터\n",
    "df[\"weight\"] /= 100   # normalization : 학습 속도를 높이기 위함\n",
    "df[\"height\"] /= 200   # normalization \n",
    "# X = df[[\"weight\", \"height\"]].to_numpy()\n",
    "X = df.iloc[:,0:2]\n",
    "\n",
    "# 레이블링, 라벨링 (labelling) => one-hot encoding\n",
    "bclass = {\"thin\":[1,0,0], \"normal\":[0,1,0], \"fat\":[0,0,1]}\n",
    "y = np.empty((20000,3))     # 2000x3 크기의 다차원 벡터 생성\n",
    "for i, v in enumerate(df[\"label\"]):\n",
    "    y[i] = bclass[v]        # \"thin'이면, y[i]=[1,0,0] 와 같이 할당\n",
    "    \n",
    "# 훈련 전용 데이터와 테스트 전용 데이터로 나누기\n",
    "X_train, y_train = X[0:15000], y[0:15000]\n",
    "X_test,  y_test  = X[15000:20000], y[15000:20000]"
   ]
  },
  {
   "cell_type": "code",
   "execution_count": 8,
   "metadata": {
    "id": "G2UgYhccLtVu",
    "scrolled": true
   },
   "outputs": [],
   "source": [
    "# 모델 구조 정의하기\n",
    "model = tf.keras.Sequential()         # 순차적 계층화 준비\n",
    "model.add(layers.Dense(8, input_shape=(2,)))  # 입력 2개로부터 전달받는 8개 노드의 layer 생성\n",
    "model.add(layers.Activation('relu'))  # ReLU 활성화함수 채택(hidden layer)\n",
    "model.add(layers.Dropout(0.1))        # dropout ratio=10% (배치 훈련시 10% arc 무시)\n",
    "\n",
    "model.add(layers.Dense(4))            # 4개 노드의 layer 생성\n",
    "model.add(layers.Activation('relu'))\n",
    "model.add(layers.Dropout(0.1))\n",
    "\n",
    "model.add(layers.Dense(3))\n",
    "model.add(layers.Activation('softmax'))# 분류(classification)을 위해 softmax 함수 사용\n",
    "\n",
    "# 모델 구축하기\n",
    "model.compile(\n",
    "    loss='categorical_crossentropy',  # 다중 교차엔트로피\n",
    "    optimizer=\"rmsprop\",   # 최적화 기법 중 하나\n",
    "    metrics=['accuracy'])  # 정확도 측정"
   ]
  },
  {
   "cell_type": "code",
   "execution_count": 9,
   "metadata": {
    "colab": {
     "base_uri": "https://localhost:8080/"
    },
    "id": "2IhHchdXLtVv",
    "outputId": "bc0045b9-353e-4f65-ec94-d7b114c8f41e",
    "scrolled": true
   },
   "outputs": [
    {
     "name": "stdout",
     "output_type": "stream",
     "text": [
      "Epoch 1/50\n",
      "120/120 [==============================] - 2s 8ms/step - loss: 1.0889 - accuracy: 0.4507 - val_loss: 1.0703 - val_accuracy: 0.4767\n",
      "Epoch 2/50\n",
      "120/120 [==============================] - 0s 4ms/step - loss: 1.0638 - accuracy: 0.5438 - val_loss: 1.0436 - val_accuracy: 0.6700\n",
      "Epoch 3/50\n",
      "120/120 [==============================] - 0s 4ms/step - loss: 1.0350 - accuracy: 0.5690 - val_loss: 1.0077 - val_accuracy: 0.6813\n",
      "Epoch 4/50\n",
      "120/120 [==============================] - 0s 4ms/step - loss: 0.9990 - accuracy: 0.5752 - val_loss: 0.9610 - val_accuracy: 0.6847\n",
      "Epoch 5/50\n",
      "120/120 [==============================] - 0s 4ms/step - loss: 0.9575 - accuracy: 0.5782 - val_loss: 0.9069 - val_accuracy: 0.6847\n",
      "Epoch 6/50\n",
      "120/120 [==============================] - 0s 4ms/step - loss: 0.9071 - accuracy: 0.5871 - val_loss: 0.8512 - val_accuracy: 0.6907\n",
      "Epoch 7/50\n",
      "120/120 [==============================] - 0s 4ms/step - loss: 0.8565 - accuracy: 0.6097 - val_loss: 0.7860 - val_accuracy: 0.7587\n",
      "Epoch 8/50\n",
      "120/120 [==============================] - 0s 4ms/step - loss: 0.7988 - accuracy: 0.6413 - val_loss: 0.7245 - val_accuracy: 0.8137\n",
      "Epoch 9/50\n",
      "120/120 [==============================] - 0s 4ms/step - loss: 0.7513 - accuracy: 0.6705 - val_loss: 0.6690 - val_accuracy: 0.8477\n",
      "Epoch 10/50\n",
      "120/120 [==============================] - 0s 3ms/step - loss: 0.7154 - accuracy: 0.6888 - val_loss: 0.6165 - val_accuracy: 0.8743\n",
      "Epoch 11/50\n",
      "120/120 [==============================] - 0s 4ms/step - loss: 0.6771 - accuracy: 0.6999 - val_loss: 0.5735 - val_accuracy: 0.8917\n",
      "Epoch 12/50\n",
      "120/120 [==============================] - 0s 3ms/step - loss: 0.6355 - accuracy: 0.7140 - val_loss: 0.5292 - val_accuracy: 0.9110\n",
      "Epoch 13/50\n",
      "120/120 [==============================] - 0s 4ms/step - loss: 0.6076 - accuracy: 0.7301 - val_loss: 0.4929 - val_accuracy: 0.9230\n",
      "Epoch 14/50\n",
      "120/120 [==============================] - 0s 4ms/step - loss: 0.5892 - accuracy: 0.7345 - val_loss: 0.4600 - val_accuracy: 0.9293\n",
      "Epoch 15/50\n",
      "120/120 [==============================] - 1s 5ms/step - loss: 0.5625 - accuracy: 0.7471 - val_loss: 0.4296 - val_accuracy: 0.9407\n",
      "Epoch 16/50\n",
      "120/120 [==============================] - 0s 4ms/step - loss: 0.5474 - accuracy: 0.7589 - val_loss: 0.4060 - val_accuracy: 0.9437\n",
      "Epoch 17/50\n",
      "120/120 [==============================] - 0s 4ms/step - loss: 0.5219 - accuracy: 0.7653 - val_loss: 0.3797 - val_accuracy: 0.9467\n",
      "Epoch 18/50\n",
      "120/120 [==============================] - 0s 4ms/step - loss: 0.5090 - accuracy: 0.7741 - val_loss: 0.3610 - val_accuracy: 0.9603\n",
      "Epoch 19/50\n",
      "120/120 [==============================] - 0s 4ms/step - loss: 0.4951 - accuracy: 0.7764 - val_loss: 0.3394 - val_accuracy: 0.9577\n",
      "Epoch 20/50\n",
      "120/120 [==============================] - 0s 4ms/step - loss: 0.4869 - accuracy: 0.7789 - val_loss: 0.3280 - val_accuracy: 0.9663\n",
      "Epoch 21/50\n",
      "120/120 [==============================] - 1s 4ms/step - loss: 0.4691 - accuracy: 0.7898 - val_loss: 0.3119 - val_accuracy: 0.9707\n",
      "Epoch 22/50\n",
      "120/120 [==============================] - 0s 4ms/step - loss: 0.4603 - accuracy: 0.7962 - val_loss: 0.2962 - val_accuracy: 0.9730\n",
      "Epoch 23/50\n",
      "120/120 [==============================] - 0s 4ms/step - loss: 0.4559 - accuracy: 0.7935 - val_loss: 0.2848 - val_accuracy: 0.9673\n",
      "Epoch 24/50\n",
      "120/120 [==============================] - 0s 4ms/step - loss: 0.4381 - accuracy: 0.8047 - val_loss: 0.2729 - val_accuracy: 0.9757\n",
      "Epoch 25/50\n",
      "120/120 [==============================] - 1s 4ms/step - loss: 0.4364 - accuracy: 0.8024 - val_loss: 0.2653 - val_accuracy: 0.9783\n",
      "Epoch 26/50\n",
      "120/120 [==============================] - 1s 4ms/step - loss: 0.4312 - accuracy: 0.7996 - val_loss: 0.2547 - val_accuracy: 0.9767\n",
      "Epoch 27/50\n",
      "120/120 [==============================] - 0s 4ms/step - loss: 0.4177 - accuracy: 0.8091 - val_loss: 0.2471 - val_accuracy: 0.9783\n",
      "Epoch 28/50\n",
      "120/120 [==============================] - 0s 4ms/step - loss: 0.4169 - accuracy: 0.8041 - val_loss: 0.2409 - val_accuracy: 0.9807\n",
      "Epoch 29/50\n",
      "120/120 [==============================] - 0s 4ms/step - loss: 0.4052 - accuracy: 0.8112 - val_loss: 0.2323 - val_accuracy: 0.9763\n",
      "Epoch 30/50\n",
      "120/120 [==============================] - 1s 4ms/step - loss: 0.3999 - accuracy: 0.8141 - val_loss: 0.2243 - val_accuracy: 0.9820\n",
      "Epoch 31/50\n",
      "120/120 [==============================] - 0s 3ms/step - loss: 0.3941 - accuracy: 0.8171 - val_loss: 0.2193 - val_accuracy: 0.9843\n",
      "Epoch 32/50\n",
      "120/120 [==============================] - 0s 4ms/step - loss: 0.3924 - accuracy: 0.8145 - val_loss: 0.2135 - val_accuracy: 0.9833\n",
      "Epoch 33/50\n",
      "120/120 [==============================] - 0s 3ms/step - loss: 0.3813 - accuracy: 0.8169 - val_loss: 0.2089 - val_accuracy: 0.9820\n",
      "Epoch 34/50\n",
      "120/120 [==============================] - 0s 4ms/step - loss: 0.3799 - accuracy: 0.8187 - val_loss: 0.2045 - val_accuracy: 0.9853\n",
      "Epoch 35/50\n",
      "120/120 [==============================] - 0s 4ms/step - loss: 0.3855 - accuracy: 0.8136 - val_loss: 0.2016 - val_accuracy: 0.9780\n",
      "Epoch 36/50\n",
      "120/120 [==============================] - 1s 4ms/step - loss: 0.3683 - accuracy: 0.8223 - val_loss: 0.1952 - val_accuracy: 0.9730\n",
      "Epoch 37/50\n",
      "120/120 [==============================] - 0s 3ms/step - loss: 0.3675 - accuracy: 0.8218 - val_loss: 0.1916 - val_accuracy: 0.9833\n",
      "Epoch 38/50\n",
      "120/120 [==============================] - 0s 4ms/step - loss: 0.3624 - accuracy: 0.8242 - val_loss: 0.1897 - val_accuracy: 0.9797\n",
      "Epoch 39/50\n",
      "120/120 [==============================] - 0s 3ms/step - loss: 0.3674 - accuracy: 0.8177 - val_loss: 0.1852 - val_accuracy: 0.9780\n",
      "Epoch 40/50\n",
      "120/120 [==============================] - 0s 3ms/step - loss: 0.3632 - accuracy: 0.8206 - val_loss: 0.1773 - val_accuracy: 0.9843\n",
      "Epoch 41/50\n",
      "120/120 [==============================] - 0s 4ms/step - loss: 0.3639 - accuracy: 0.8227 - val_loss: 0.1772 - val_accuracy: 0.9840\n",
      "Epoch 42/50\n",
      "120/120 [==============================] - 0s 3ms/step - loss: 0.3503 - accuracy: 0.8257 - val_loss: 0.1724 - val_accuracy: 0.9857\n",
      "Epoch 43/50\n",
      "120/120 [==============================] - 0s 4ms/step - loss: 0.3516 - accuracy: 0.8249 - val_loss: 0.1722 - val_accuracy: 0.9793\n",
      "Epoch 44/50\n",
      "120/120 [==============================] - 0s 4ms/step - loss: 0.3584 - accuracy: 0.8221 - val_loss: 0.1708 - val_accuracy: 0.9857\n",
      "Epoch 45/50\n",
      "120/120 [==============================] - 0s 4ms/step - loss: 0.3576 - accuracy: 0.8158 - val_loss: 0.1720 - val_accuracy: 0.9757\n",
      "Epoch 46/50\n",
      "120/120 [==============================] - 0s 4ms/step - loss: 0.3468 - accuracy: 0.8248 - val_loss: 0.1719 - val_accuracy: 0.9747\n",
      "Epoch 47/50\n",
      "120/120 [==============================] - 0s 4ms/step - loss: 0.3355 - accuracy: 0.8278 - val_loss: 0.1596 - val_accuracy: 0.9813\n",
      "Epoch 48/50\n",
      "120/120 [==============================] - 0s 4ms/step - loss: 0.3444 - accuracy: 0.8241 - val_loss: 0.1605 - val_accuracy: 0.9843\n",
      "Epoch 49/50\n",
      "120/120 [==============================] - 0s 4ms/step - loss: 0.3389 - accuracy: 0.8263 - val_loss: 0.1608 - val_accuracy: 0.9837\n",
      "Epoch 50/50\n",
      "120/120 [==============================] - 0s 4ms/step - loss: 0.3379 - accuracy: 0.8263 - val_loss: 0.1543 - val_accuracy: 0.9857\n",
      "157/157 [==============================] - 1s 3ms/step - loss: 0.1588 - accuracy: 0.9808\n",
      "test_loss:  0.15881668031215668\n",
      "test_acc:  0.9807999730110168\n"
     ]
    }
   ],
   "source": [
    "# 데이터 훈련하기\n",
    "hist = model.fit(\n",
    "    X_train, y_train,\n",
    "    batch_size=100,     # 100개에 한 번씩 업데이터 실행\n",
    "    epochs=50,          # 전체 훈련 데이터셋을 총 50회 반복 실험. 단, 조기중지될 수 있음\n",
    "    validation_split=0.2,  \n",
    "        #validation data 분할 비율. 즉, 15000개 중에서 20%인 3000개를 validation용으로 분할\n",
    "    callbacks=[tf.keras.callbacks.EarlyStopping(monitor='val_loss', patience=10)],  \n",
    "        #'val_loss'를 monitor하여 감소하면 10번 더 참고 조기중지(early stopping)\n",
    "    verbose=1)   # 전 과정을 화면에 출력(1) 또는 미출력(0) 모드\n",
    "\n",
    "# 테스트 데이터로 평가하기\n",
    "score = model.evaluate(X_test, y_test)\n",
    "print('test_loss: ', score[0])\n",
    "print('test_acc: ', score[1])"
   ]
  },
  {
   "cell_type": "code",
   "execution_count": 10,
   "metadata": {
    "colab": {
     "base_uri": "https://localhost:8080/"
    },
    "id": "eVZ2sf6Gb5Y-",
    "outputId": "e18e011e-5e3c-4b6d-9556-34d0db422f9f"
   },
   "outputs": [
    {
     "data": {
      "text/plain": [
       "dict_keys(['loss', 'accuracy', 'val_loss', 'val_accuracy'])"
      ]
     },
     "execution_count": 10,
     "metadata": {},
     "output_type": "execute_result"
    }
   ],
   "source": [
    "hist.history.keys()"
   ]
  },
  {
   "cell_type": "code",
   "execution_count": 11,
   "metadata": {
    "colab": {
     "base_uri": "https://localhost:8080/",
     "height": 279
    },
    "id": "Hh1NwcAwLtVw",
    "outputId": "828e6f60-2f2e-4576-dc99-53eddbc4066d",
    "scrolled": true
   },
   "outputs": [
    {
     "data": {
      "image/png": "[encoded data removed]",
      "text/plain": [
       "<Figure size 432x288 with 2 Axes>"
      ]
     },
     "metadata": {
      "needs_background": "light"
     },
     "output_type": "display_data"
    }
   ],
   "source": [
    "import matplotlib.pyplot as plt\n",
    "\n",
    "fig, loss_ax = plt.subplots()\n",
    "acc_ax = loss_ax.twinx()\n",
    "\n",
    "loss_ax.plot(hist.history['loss'], 'y', label='train loss')\n",
    "loss_ax.plot(hist.history['val_loss'], 'r', label='val loss')\n",
    "\n",
    "acc_ax.plot(hist.history['accuracy'], 'b', label='train acc')\n",
    "acc_ax.plot(hist.history['val_accuracy'], 'g', label='val acc')\n",
    "\n",
    "loss_ax.set_xlabel('epoch')\n",
    "loss_ax.set_ylabel('loss')\n",
    "acc_ax.set_ylabel('accuray')\n",
    "\n",
    "loss_ax.legend(loc='upper left')\n",
    "acc_ax.legend(loc='lower left')\n",
    "\n",
    "plt.show()"
   ]
  },
  {
   "cell_type": "code",
   "execution_count": 12,
   "metadata": {
    "colab": {
     "base_uri": "https://localhost:8080/"
    },
    "id": "a0LNN770LtVw",
    "outputId": "1d0a5184-5bb0-47e9-e5d4-5ac09faef69c"
   },
   "outputs": [
    {
     "name": "stdout",
     "output_type": "stream",
     "text": [
      "Model: \"sequential\"\n",
      "_________________________________________________________________\n",
      " Layer (type)                Output Shape              Param #   \n",
      "=================================================================\n",
      " dense (Dense)               (None, 8)                 24        \n",
      "                                                                 \n",
      " activation (Activation)     (None, 8)                 0         \n",
      "                                                                 \n",
      " dropout (Dropout)           (None, 8)                 0         \n",
      "                                                                 \n",
      " dense_1 (Dense)             (None, 4)                 36        \n",
      "                                                                 \n",
      " activation_1 (Activation)   (None, 4)                 0         \n",
      "                                                                 \n",
      " dropout_1 (Dropout)         (None, 4)                 0         \n",
      "                                                                 \n",
      " dense_2 (Dense)             (None, 3)                 15        \n",
      "                                                                 \n",
      " activation_2 (Activation)   (None, 3)                 0         \n",
      "                                                                 \n",
      "=================================================================\n",
      "Total params: 75\n",
      "Trainable params: 75\n",
      "Non-trainable params: 0\n",
      "_________________________________________________________________\n"
     ]
    }
   ],
   "source": [
    "model.summary()"
   ]
  },
  {
   "cell_type": "code",
   "execution_count": 13,
   "metadata": {
    "colab": {
     "base_uri": "https://localhost:8080/"
    },
    "id": "Ap06VxZI5Aog",
    "outputId": "be69fe44-d828-4e2b-8e2e-8fabb0ee181a"
   },
   "outputs": [
    {
     "data": {
      "text/plain": [
       "[array([[-0.97981346,  0.12674117, -0.16146916,  1.3188218 ,  1.3830665 ,\n",
       "         -0.6113999 , -0.43621683, -0.7335477 ],\n",
       "        [ 1.2188624 , -0.63556707, -0.574932  , -0.82305735, -0.90356064,\n",
       "         -0.4997696 , -0.21349764,  0.18297273]], dtype=float32),\n",
       " array([ 0.26655823,  0.        ,  0.        , -0.49032348, -0.49412104,\n",
       "         0.        ,  0.        ,  0.        ], dtype=float32),\n",
       " array([[-2.4862938 , -0.08842543, -0.37413976,  3.2883646 ],\n",
       "        [-0.3426979 ,  0.64820415, -0.5928807 ,  0.09688079],\n",
       "        [-0.599777  , -0.5831965 ,  0.4545198 , -0.41380113],\n",
       "        [-2.3362875 ,  4.7011576 , -0.6947124 , -1.8688979 ],\n",
       "        [-2.5612009 ,  4.7393436 , -0.35377675, -1.8148828 ],\n",
       "        [-0.69317806, -0.49982923,  0.59582204,  0.69022423],\n",
       "        [-0.29321393, -0.40684184,  0.33546478, -0.32117584],\n",
       "        [-0.63198626,  0.34607166, -0.6930702 , -0.5232501 ]],\n",
       "       dtype=float32),\n",
       " array([0.29684442, 0.02624467, 0.        , 0.65238315], dtype=float32),\n",
       " array([[-0.622784  , -3.2561164 ,  2.517782  ],\n",
       "        [ 2.1791763 ,  1.259595  , -6.339438  ],\n",
       "        [-0.371983  , -0.6166998 ,  0.77450955],\n",
       "        [-3.8267846 ,  0.73029286,  2.0592518 ]], dtype=float32),\n",
       " array([-0.26112983,  0.19005695, -0.04491502], dtype=float32)]"
      ]
     },
     "execution_count": 13,
     "metadata": {},
     "output_type": "execute_result"
    }
   ],
   "source": [
    "model.get_weights()"
   ]
  },
  {
   "cell_type": "code",
   "execution_count": 16,
   "metadata": {
    "colab": {
     "base_uri": "https://localhost:8080/"
    },
    "id": "nhPK4V6nLtVx",
    "outputId": "c191a145-aeb2-43de-dcab-c9a5229e7888",
    "scrolled": true
   },
   "outputs": [
    {
     "name": "stdout",
     "output_type": "stream",
     "text": [
      "Saved model to disk.\n",
      "Model: \"sequential\"\n",
      "_________________________________________________________________\n",
      " Layer (type)                Output Shape              Param #   \n",
      "=================================================================\n",
      " dense (Dense)               (None, 8)                 24        \n",
      "                                                                 \n",
      " activation (Activation)     (None, 8)                 0         \n",
      "                                                                 \n",
      " dropout (Dropout)           (None, 8)                 0         \n",
      "                                                                 \n",
      " dense_1 (Dense)             (None, 4)                 36        \n",
      "                                                                 \n",
      " activation_1 (Activation)   (None, 4)                 0         \n",
      "                                                                 \n",
      " dropout_1 (Dropout)         (None, 4)                 0         \n",
      "                                                                 \n",
      " dense_2 (Dense)             (None, 3)                 15        \n",
      "                                                                 \n",
      " activation_2 (Activation)   (None, 3)                 0         \n",
      "                                                                 \n",
      "=================================================================\n",
      "Total params: 75\n",
      "Trainable params: 75\n",
      "Non-trainable params: 0\n",
      "_________________________________________________________________\n",
      "157/157 [==============================] - 1s 4ms/step - loss: 0.1588 - accuracy: 0.9808\n",
      "test_loss:  0.15881668031215668\n",
      "test_acc:  0.9807999730110168\n"
     ]
    }
   ],
   "source": [
    "model.save(\"dnn_bmi.h5\")\n",
    "print(\"Saved model to disk.\")\n",
    "\n",
    "from numpy import loadtxt\n",
    "from tensorflow.python.keras.models import load_model\n",
    "\n",
    "# 저장된 모델 읽어오기\n",
    "loaded_model = load_model(\"dnn_bmi.h5\")\n",
    "model.summary()\n",
    "\n",
    "# 모델을 평가하기\n",
    "score = model.evaluate(X_test, y_test)\n",
    "print('test_loss: ', score[0])\n",
    "print('test_acc: ', score[1])"
   ]
  },
  {
   "cell_type": "code",
   "execution_count": 17,
   "metadata": {
    "colab": {
     "base_uri": "https://localhost:8080/"
    },
    "id": "X8sQr21XLtVy",
    "outputId": "d5a57154-8a71-4852-dfa8-2d744b50db50"
   },
   "outputs": [
    {
     "name": "stdout",
     "output_type": "stream",
     "text": [
      "157/157 [==============================] - 1s 3ms/step\n",
      "[[9.7192606e-05 1.4830294e-01 8.5159987e-01]\n",
      " [8.1984133e-01 1.8015875e-01 1.2483191e-08]\n",
      " [1.7709872e-02 9.8184180e-01 4.4830685e-04]\n",
      " ...\n",
      " [9.7905684e-01 2.0943180e-02 6.3318542e-18]\n",
      " [9.4846666e-01 5.1533341e-02 3.4508827e-14]\n",
      " [6.0853123e-04 6.1258829e-01 3.8680321e-01]]\n"
     ]
    },
    {
     "data": {
      "text/plain": [
       "array([2, 0, 1, ..., 0, 0, 1], dtype=int64)"
      ]
     },
     "execution_count": 17,
     "metadata": {},
     "output_type": "execute_result"
    }
   ],
   "source": [
    "# X_test 샘플들의 클래스 예측하기\n",
    "y_prob = model.predict(X_test)    # X_test의 출력값 확인하기\n",
    "print(y_prob)\n",
    "\n",
    "y_class = y_prob.argmax(axis=-1)  # X_test의 클래스 예측하기\n",
    "y_class"
   ]
  },
  {
   "cell_type": "code",
   "execution_count": 18,
   "metadata": {
    "colab": {
     "base_uri": "https://localhost:8080/"
    },
    "id": "34Xez1yYLtV0",
    "outputId": "6707f78b-2b13-440b-ff75-dae7df68814b"
   },
   "outputs": [
    {
     "name": "stdout",
     "output_type": "stream",
     "text": [
      "[0.8, 0.875]\n",
      "1/1 [==============================] - 0s 196ms/step\n",
      "[[3.9932533e-07 4.5995221e-02 9.5400435e-01]] 2\n"
     ]
    }
   ],
   "source": [
    "# 새로운 샘플의 클래스 예측하기\n",
    "X_new = [80, 175]\n",
    "X_new[0]/=100; X_new[1]/=200\n",
    "print(X_new)\n",
    "\n",
    "y_prob = model.predict([X_new]) # X_new의 출력값 확인하기\n",
    "y_pred = y_prob.argmax()        # X_new의 클래스 예측하기\n",
    "print(y_prob, y_pred)"
   ]
  },
  {
   "cell_type": "code",
   "execution_count": 19,
   "metadata": {
    "colab": {
     "base_uri": "https://localhost:8080/"
    },
    "id": "YDjOYxUzLtVz",
    "outputId": "933c11a6-e82d-4da2-a5d0-b00254863d9d"
   },
   "outputs": [
    {
     "data": {
      "text/plain": [
       "pandas.core.frame.DataFrame"
      ]
     },
     "execution_count": 19,
     "metadata": {},
     "output_type": "execute_result"
    }
   ],
   "source": [
    "type(X_test)"
   ]
  },
  {
   "cell_type": "code",
   "execution_count": 20,
   "metadata": {
    "colab": {
     "base_uri": "https://localhost:8080/",
     "height": 206
    },
    "id": "iOdX9FRmLtVz",
    "outputId": "f42901a2-1152-4b9c-d490-121837488b9a"
   },
   "outputs": [
    {
     "data": {
      "text/html": [
       "<div>\n",
       "<style scoped>\n",
       "    .dataframe tbody tr th:only-of-type {\n",
       "        vertical-align: middle;\n",
       "    }\n",
       "\n",
       "    .dataframe tbody tr th {\n",
       "        vertical-align: top;\n",
       "    }\n",
       "\n",
       "    .dataframe thead th {\n",
       "        text-align: right;\n",
       "    }\n",
       "</style>\n",
       "<table border=\"1\" class=\"dataframe\">\n",
       "  <thead>\n",
       "    <tr style=\"text-align: right;\">\n",
       "      <th></th>\n",
       "      <th>height</th>\n",
       "      <th>weight</th>\n",
       "    </tr>\n",
       "  </thead>\n",
       "  <tbody>\n",
       "    <tr>\n",
       "      <th>15000</th>\n",
       "      <td>0.690</td>\n",
       "      <td>0.55</td>\n",
       "    </tr>\n",
       "    <tr>\n",
       "      <th>15001</th>\n",
       "      <td>0.760</td>\n",
       "      <td>0.36</td>\n",
       "    </tr>\n",
       "    <tr>\n",
       "      <th>15002</th>\n",
       "      <td>0.915</td>\n",
       "      <td>0.72</td>\n",
       "    </tr>\n",
       "    <tr>\n",
       "      <th>15003</th>\n",
       "      <td>0.990</td>\n",
       "      <td>0.51</td>\n",
       "    </tr>\n",
       "    <tr>\n",
       "      <th>15004</th>\n",
       "      <td>0.745</td>\n",
       "      <td>0.47</td>\n",
       "    </tr>\n",
       "  </tbody>\n",
       "</table>\n",
       "</div>"
      ],
      "text/plain": [
       "       height  weight\n",
       "15000   0.690    0.55\n",
       "15001   0.760    0.36\n",
       "15002   0.915    0.72\n",
       "15003   0.990    0.51\n",
       "15004   0.745    0.47"
      ]
     },
     "execution_count": 20,
     "metadata": {},
     "output_type": "execute_result"
    }
   ],
   "source": [
    "X_test.head()"
   ]
  },
  {
   "cell_type": "code",
   "execution_count": 21,
   "metadata": {
    "colab": {
     "base_uri": "https://localhost:8080/"
    },
    "id": "xaOIG8Kaovrc",
    "outputId": "f7db397c-0901-436d-a563-225bd00b921a"
   },
   "outputs": [
    {
     "data": {
      "text/plain": [
       "[15000, 15001, 15002, 15003, 15004]"
      ]
     },
     "execution_count": 21,
     "metadata": {},
     "output_type": "execute_result"
    }
   ],
   "source": [
    "X_test.head(5).index.tolist()"
   ]
  },
  {
   "cell_type": "code",
   "execution_count": 22,
   "metadata": {
    "colab": {
     "base_uri": "https://localhost:8080/"
    },
    "id": "HfXV29CxuGk0",
    "outputId": "5721db06-0c81-4c3f-fe2e-06d9366e9a7f"
   },
   "outputs": [
    {
     "name": "stdout",
     "output_type": "stream",
     "text": [
      "height    0.69\n",
      "weight    0.55\n",
      "Name: 15000, dtype: float64\n",
      "\n",
      "1/1 [==============================] - 0s 89ms/step\n",
      "[[9.7192606e-05 1.4830296e-01 8.5159987e-01]] 2\n"
     ]
    }
   ],
   "source": [
    "X_test0 = X_test.loc[15000]\n",
    "print(X_test0); print()\n",
    "\n",
    "X_test_li = list(X_test0)\n",
    "y_prob = model.predict([X_test_li])  # model.predict([[0.69, 0.55]])\n",
    "y_pred = y_prob.argmax()\n",
    "print(y_prob, y_pred)"
   ]
  },
  {
   "cell_type": "code",
   "execution_count": 23,
   "metadata": {
    "id": "flB-FoC2LtV0"
   },
   "outputs": [],
   "source": [
    "def predict_bmi(X_new):\n",
    "  y_prob = model.predict([X_new])\n",
    "  y_pred = y_prob.argmax()\n",
    "  print(X_new, y_prob, y_pred, sep='\\t')"
   ]
  },
  {
   "cell_type": "code",
   "execution_count": 24,
   "metadata": {
    "colab": {
     "base_uri": "https://localhost:8080/"
    },
    "id": "EMJdeu5nLtV0",
    "outputId": "94677c6e-8a7d-44e1-d456-8f64aae8e70d"
   },
   "outputs": [
    {
     "name": "stdout",
     "output_type": "stream",
     "text": [
      "1/1 [==============================] - 0s 90ms/step\n",
      "[0.7999703333333329, 0.5757626666666672]\t[[0.02073429 0.9758128  0.00345293]]\t1\n",
      "1/1 [==============================] - 0s 87ms/step\n",
      "[0.6, 0.35]\t[[0.00583258 0.5656776  0.4284898 ]]\t1\n",
      "1/1 [==============================] - 0s 102ms/step\n",
      "[1.0, 0.8]\t[[4.4618670e-02 9.5536739e-01 1.4052079e-05]]\t1\n",
      "1/1 [==============================] - 0s 112ms/step\n",
      "[0.6, 0.8]\t[[5.3689497e-08 2.9626384e-02 9.7037357e-01]]\t2\n",
      "1/1 [==============================] - 0s 90ms/step\n",
      "[1.0, 0.35]\t[[9.8793387e-01 1.2066102e-02 3.5541237e-20]]\t0\n"
     ]
    }
   ],
   "source": [
    "X_mean = [X_train[\"height\"].mean(), X_train[\"weight\"].mean()]\n",
    "X_min = [X_train[\"height\"].min(), X_train[\"weight\"].min()]\n",
    "X_max = [X_train[\"height\"].max(), X_train[\"weight\"].max()]\n",
    "X_min_max = [X_train[\"height\"].min(), X_train[\"weight\"].max()]\n",
    "X_max_min = [X_train[\"height\"].max(), X_train[\"weight\"].min()]\n",
    "\n",
    "predict_bmi(X_mean)\n",
    "predict_bmi(X_min)\n",
    "predict_bmi(X_max)\n",
    "predict_bmi(X_min_max)\n",
    "predict_bmi(X_max_min)"
   ]
  }
 ],
 "metadata": {
  "colab": {
   "collapsed_sections": [],
   "provenance": []
  },
  "kernelspec": {
   "display_name": "Python 3 (ipykernel)",
   "language": "python",
   "name": "python3"
  },
  "language_info": {
   "codemirror_mode": {
    "name": "ipython",
    "version": 3
   },
   "file_extension": ".py",
   "mimetype": "text/x-python",
   "name": "python",
   "nbconvert_exporter": "python",
   "pygments_lexer": "ipython3",
   "version": "3.9.5"
  }
 },
 "nbformat": 4,
 "nbformat_minor": 1
}
