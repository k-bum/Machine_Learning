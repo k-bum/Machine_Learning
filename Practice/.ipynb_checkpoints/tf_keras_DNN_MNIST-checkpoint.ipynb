{
 "cells": [
  {
   "cell_type": "code",
   "execution_count": 1,
   "id": "66f79bac",
   "metadata": {},
   "outputs": [],
   "source": [
    "import tensorflow as tf\n",
    "from tensorflow.keras import layers, utils\n",
    "from tensorflow.keras.datasets import mnist\n",
    "from tensorflow.keras.callbacks import EarlyStopping "
   ]
  },
  {
   "cell_type": "code",
   "execution_count": 2,
   "id": "ae296cae",
   "metadata": {},
   "outputs": [
    {
     "name": "stdout",
     "output_type": "stream",
     "text": [
      "Downloading data from https://storage.googleapis.com/tensorflow/tf-keras-datasets/mnist.npz\n",
      "11490434/11490434 [==============================] - 1s 0us/step\n"
     ]
    }
   ],
   "source": [
    "(x_train, y_train), (x_test, y_test) = mnist.load_data()"
   ]
  },
  {
   "cell_type": "code",
   "execution_count": 3,
   "id": "570e8a31",
   "metadata": {},
   "outputs": [
    {
     "name": "stdout",
     "output_type": "stream",
     "text": [
      "x_train.shape =  (60000, 28, 28)\n",
      "y_train.shape =  (60000,)\n",
      "x_test.shape =  (10000, 28, 28)\n",
      "y_test.shape =  (10000,)\n"
     ]
    }
   ],
   "source": [
    "print(\"x_train.shape = \", x_train.shape)\n",
    "print(\"y_train.shape = \", y_train.shape)\n",
    "print(\"x_test.shape = \", x_test.shape)\n",
    "print(\"y_test.shape = \", y_test.shape)"
   ]
  },
  {
   "cell_type": "code",
   "execution_count": 4,
   "id": "b07f7d0f",
   "metadata": {},
   "outputs": [
    {
     "name": "stdout",
     "output_type": "stream",
     "text": [
      "y_train[0:10] =  [5 0 4 1 9 2 1 3 1 4]\n",
      "x_train[0] =  [[  0   0   0   0   0   0   0   0   0   0   0   0   0   0   0   0   0   0\n",
      "    0   0   0   0   0   0   0   0   0   0]\n",
      " [  0   0   0   0   0   0   0   0   0   0   0   0   0   0   0   0   0   0\n",
      "    0   0   0   0   0   0   0   0   0   0]\n",
      " [  0   0   0   0   0   0   0   0   0   0   0   0   0   0   0   0   0   0\n",
      "    0   0   0   0   0   0   0   0   0   0]\n",
      " [  0   0   0   0   0   0   0   0   0   0   0   0   0   0   0   0   0   0\n",
      "    0   0   0   0   0   0   0   0   0   0]\n",
      " [  0   0   0   0   0   0   0   0   0   0   0   0   0   0   0   0   0   0\n",
      "    0   0   0   0   0   0   0   0   0   0]\n",
      " [  0   0   0   0   0   0   0   0   0   0   0   0   3  18  18  18 126 136\n",
      "  175  26 166 255 247 127   0   0   0   0]\n",
      " [  0   0   0   0   0   0   0   0  30  36  94 154 170 253 253 253 253 253\n",
      "  225 172 253 242 195  64   0   0   0   0]\n",
      " [  0   0   0   0   0   0   0  49 238 253 253 253 253 253 253 253 253 251\n",
      "   93  82  82  56  39   0   0   0   0   0]\n",
      " [  0   0   0   0   0   0   0  18 219 253 253 253 253 253 198 182 247 241\n",
      "    0   0   0   0   0   0   0   0   0   0]\n",
      " [  0   0   0   0   0   0   0   0  80 156 107 253 253 205  11   0  43 154\n",
      "    0   0   0   0   0   0   0   0   0   0]\n",
      " [  0   0   0   0   0   0   0   0   0  14   1 154 253  90   0   0   0   0\n",
      "    0   0   0   0   0   0   0   0   0   0]\n",
      " [  0   0   0   0   0   0   0   0   0   0   0 139 253 190   2   0   0   0\n",
      "    0   0   0   0   0   0   0   0   0   0]\n",
      " [  0   0   0   0   0   0   0   0   0   0   0  11 190 253  70   0   0   0\n",
      "    0   0   0   0   0   0   0   0   0   0]\n",
      " [  0   0   0   0   0   0   0   0   0   0   0   0  35 241 225 160 108   1\n",
      "    0   0   0   0   0   0   0   0   0   0]\n",
      " [  0   0   0   0   0   0   0   0   0   0   0   0   0  81 240 253 253 119\n",
      "   25   0   0   0   0   0   0   0   0   0]\n",
      " [  0   0   0   0   0   0   0   0   0   0   0   0   0   0  45 186 253 253\n",
      "  150  27   0   0   0   0   0   0   0   0]\n",
      " [  0   0   0   0   0   0   0   0   0   0   0   0   0   0   0  16  93 252\n",
      "  253 187   0   0   0   0   0   0   0   0]\n",
      " [  0   0   0   0   0   0   0   0   0   0   0   0   0   0   0   0   0 249\n",
      "  253 249  64   0   0   0   0   0   0   0]\n",
      " [  0   0   0   0   0   0   0   0   0   0   0   0   0   0  46 130 183 253\n",
      "  253 207   2   0   0   0   0   0   0   0]\n",
      " [  0   0   0   0   0   0   0   0   0   0   0   0  39 148 229 253 253 253\n",
      "  250 182   0   0   0   0   0   0   0   0]\n",
      " [  0   0   0   0   0   0   0   0   0   0  24 114 221 253 253 253 253 201\n",
      "   78   0   0   0   0   0   0   0   0   0]\n",
      " [  0   0   0   0   0   0   0   0  23  66 213 253 253 253 253 198  81   2\n",
      "    0   0   0   0   0   0   0   0   0   0]\n",
      " [  0   0   0   0   0   0  18 171 219 253 253 253 253 195  80   9   0   0\n",
      "    0   0   0   0   0   0   0   0   0   0]\n",
      " [  0   0   0   0  55 172 226 253 253 253 253 244 133  11   0   0   0   0\n",
      "    0   0   0   0   0   0   0   0   0   0]\n",
      " [  0   0   0   0 136 253 253 253 212 135 132  16   0   0   0   0   0   0\n",
      "    0   0   0   0   0   0   0   0   0   0]\n",
      " [  0   0   0   0   0   0   0   0   0   0   0   0   0   0   0   0   0   0\n",
      "    0   0   0   0   0   0   0   0   0   0]\n",
      " [  0   0   0   0   0   0   0   0   0   0   0   0   0   0   0   0   0   0\n",
      "    0   0   0   0   0   0   0   0   0   0]\n",
      " [  0   0   0   0   0   0   0   0   0   0   0   0   0   0   0   0   0   0\n",
      "    0   0   0   0   0   0   0   0   0   0]]\n"
     ]
    }
   ],
   "source": [
    "print(\"y_train[0:10] = \", y_train[0:10])\n",
    "print(\"x_train[0] = \", x_train[0])"
   ]
  },
  {
   "cell_type": "code",
   "execution_count": 5,
   "id": "57440c3d",
   "metadata": {},
   "outputs": [],
   "source": [
    "from matplotlib import pyplot as plt\n",
    "import numpy as np"
   ]
  },
  {
   "cell_type": "code",
   "execution_count": 7,
   "id": "c17636f2",
   "metadata": {},
   "outputs": [
    {
     "data": {
      "image/png": "[encoded data removed]",
      "text/plain": [
       "<Figure size 432x288 with 1 Axes>"
      ]
     },
     "metadata": {
      "needs_background": "light"
     },
     "output_type": "display_data"
    }
   ],
   "source": [
    "first_image = x_train[0]\n",
    "first_image = np.array(first_image, dtype = 'float')\n",
    "pixels = first_image.reshape((28, 28))\n",
    "plt.imshow(pixels, cmap = 'gray')\n",
    "plt.show()"
   ]
  },
  {
   "cell_type": "code",
   "execution_count": 8,
   "id": "beb2901e",
   "metadata": {},
   "outputs": [],
   "source": [
    "# DNN을 위한 X변수의 데이터 변환\n",
    "# 28*28 텐서를 길이가 784인 벡터로 변환\n",
    "x_train = x_train.reshape(60000, 784).astype('float32')\n",
    "x_test = x_test.reshape(10000, 784).astype('float32')\n",
    "\n",
    "# 0-1 noramalization\n",
    "x_train /= 255\n",
    "x_test /= 255\n",
    "\n",
    "# DNN을 위한 Y변수의 범주형 데이터(0 ~ 9)로 변환 -> one-hot encoding\n",
    "y_train = utils.to_categorical(y_train, 10)\n",
    "y_test = utils.to_categorical(y_test, 10)"
   ]
  },
  {
   "cell_type": "code",
   "execution_count": 9,
   "id": "890f748a",
   "metadata": {},
   "outputs": [
    {
     "name": "stdout",
     "output_type": "stream",
     "text": [
      "[array([0., 0., 0., 0., 0., 1., 0., 0., 0., 0.], dtype=float32), array([1., 0., 0., 0., 0., 0., 0., 0., 0., 0.], dtype=float32), array([0., 0., 0., 0., 1., 0., 0., 0., 0., 0.], dtype=float32)]\n",
      "(784,)\n"
     ]
    }
   ],
   "source": [
    "print(list(y_train)[0:3])\n",
    "print(x_train[0].shape)"
   ]
  },
  {
   "cell_type": "code",
   "execution_count": 10,
   "id": "0a49ccc4",
   "metadata": {},
   "outputs": [],
   "source": [
    "model = tf.keras.Sequential()\n",
    "model.add(layers.Dense(512, input_shape = (784,)))\n",
    "model.add(layers.Activation('relu'))\n",
    "model.add(layers.Dropout(0.2))\n",
    "\n",
    "model.add(layers.Dense(512))\n",
    "model.add(layers.Activation('relu'))\n",
    "model.add(layers.Dropout(0.2))\n",
    "\n",
    "model.add(layers.Dense(10))\n",
    "model.add(layers.Activation('softmax'))"
   ]
  },
  {
   "cell_type": "code",
   "execution_count": 11,
   "id": "e56b60f7",
   "metadata": {},
   "outputs": [
    {
     "name": "stdout",
     "output_type": "stream",
     "text": [
      "Model: \"sequential\"\n",
      "_________________________________________________________________\n",
      " Layer (type)                Output Shape              Param #   \n",
      "=================================================================\n",
      " dense (Dense)               (None, 512)               401920    \n",
      "                                                                 \n",
      " activation (Activation)     (None, 512)               0         \n",
      "                                                                 \n",
      " dropout (Dropout)           (None, 512)               0         \n",
      "                                                                 \n",
      " dense_1 (Dense)             (None, 512)               262656    \n",
      "                                                                 \n",
      " activation_1 (Activation)   (None, 512)               0         \n",
      "                                                                 \n",
      " dropout_1 (Dropout)         (None, 512)               0         \n",
      "                                                                 \n",
      " dense_2 (Dense)             (None, 10)                5130      \n",
      "                                                                 \n",
      " activation_2 (Activation)   (None, 10)                0         \n",
      "                                                                 \n",
      "=================================================================\n",
      "Total params: 669,706\n",
      "Trainable params: 669,706\n",
      "Non-trainable params: 0\n",
      "_________________________________________________________________\n"
     ]
    }
   ],
   "source": [
    "model.summary()"
   ]
  },
  {
   "cell_type": "code",
   "execution_count": 12,
   "id": "7c67ae44",
   "metadata": {},
   "outputs": [
    {
     "name": "stdout",
     "output_type": "stream",
     "text": [
      "Epoch 1/50\n",
      "480/480 [==============================] - 9s 17ms/step - loss: 0.2613 - accuracy: 0.9207 - val_loss: 0.1100 - val_accuracy: 0.9662\n",
      "Epoch 2/50\n",
      "480/480 [==============================] - 8s 16ms/step - loss: 0.1072 - accuracy: 0.9662 - val_loss: 0.0904 - val_accuracy: 0.9723\n",
      "Epoch 3/50\n",
      "480/480 [==============================] - 8s 16ms/step - loss: 0.0745 - accuracy: 0.9753 - val_loss: 0.1110 - val_accuracy: 0.9651\n",
      "Epoch 4/50\n",
      "480/480 [==============================] - 8s 16ms/step - loss: 0.0598 - accuracy: 0.9808 - val_loss: 0.0854 - val_accuracy: 0.9753\n",
      "Epoch 5/50\n",
      "480/480 [==============================] - 8s 16ms/step - loss: 0.0487 - accuracy: 0.9841 - val_loss: 0.0796 - val_accuracy: 0.9772\n",
      "Epoch 6/50\n",
      "480/480 [==============================] - 8s 16ms/step - loss: 0.0419 - accuracy: 0.9861 - val_loss: 0.0708 - val_accuracy: 0.9799\n",
      "Epoch 7/50\n",
      "480/480 [==============================] - 8s 16ms/step - loss: 0.0340 - accuracy: 0.9883 - val_loss: 0.0814 - val_accuracy: 0.9783\n",
      "Epoch 8/50\n",
      "480/480 [==============================] - 8s 16ms/step - loss: 0.0322 - accuracy: 0.9893 - val_loss: 0.0834 - val_accuracy: 0.9789\n",
      "Epoch 9/50\n",
      "480/480 [==============================] - 8s 16ms/step - loss: 0.0292 - accuracy: 0.9901 - val_loss: 0.0835 - val_accuracy: 0.9795\n",
      "Epoch 10/50\n",
      "480/480 [==============================] - 8s 16ms/step - loss: 0.0267 - accuracy: 0.9906 - val_loss: 0.0868 - val_accuracy: 0.9782\n",
      "Epoch 11/50\n",
      "480/480 [==============================] - 8s 16ms/step - loss: 0.0232 - accuracy: 0.9921 - val_loss: 0.0868 - val_accuracy: 0.9792\n",
      "Epoch 12/50\n",
      "480/480 [==============================] - 8s 16ms/step - loss: 0.0210 - accuracy: 0.9937 - val_loss: 0.0954 - val_accuracy: 0.9782\n",
      "Epoch 13/50\n",
      "480/480 [==============================] - 8s 16ms/step - loss: 0.0244 - accuracy: 0.9915 - val_loss: 0.1096 - val_accuracy: 0.9777\n",
      "Epoch 14/50\n",
      "480/480 [==============================] - 8s 16ms/step - loss: 0.0200 - accuracy: 0.9933 - val_loss: 0.0967 - val_accuracy: 0.9791\n",
      "Epoch 15/50\n",
      "480/480 [==============================] - 8s 16ms/step - loss: 0.0209 - accuracy: 0.9928 - val_loss: 0.0958 - val_accuracy: 0.9771\n",
      "Epoch 16/50\n",
      "480/480 [==============================] - 8s 16ms/step - loss: 0.0205 - accuracy: 0.9926 - val_loss: 0.1057 - val_accuracy: 0.9771\n"
     ]
    }
   ],
   "source": [
    "model.compile(loss = 'categorical_crossentropy',\n",
    "             optimizer = 'Adam',\n",
    "             metrics = ['accuracy'])\n",
    "\n",
    "early_stop = EarlyStopping(monitor = 'val_loss', patience = 10)\n",
    "hist = model.fit(x_train, y_train,\n",
    "                batch_size = 100, epochs = 50,\n",
    "                validation_split = 0.2, callbacks = [early_stop],\n",
    "                shuffle = True, verbose = 1)"
   ]
  },
  {
   "cell_type": "code",
   "execution_count": 13,
   "id": "8a367231",
   "metadata": {},
   "outputs": [],
   "source": [
    "import matplotlib.pyplot as plt"
   ]
  },
  {
   "cell_type": "code",
   "execution_count": 14,
   "id": "cb00b92a",
   "metadata": {},
   "outputs": [
    {
     "data": {
      "image/png": "[encoded data removed]",
      "text/plain": [
       "<Figure size 432x288 with 2 Axes>"
      ]
     },
     "metadata": {
      "needs_background": "light"
     },
     "output_type": "display_data"
    }
   ],
   "source": [
    "fig, loss_ax = plt.subplots()\n",
    "acc_ax = loss_ax.twinx()\n",
    "\n",
    "loss_ax.plot(hist.history['loss'], 'y', label = 'train loss')\n",
    "loss_ax.plot(hist.history['val_loss'], 'r', label = 'val loss') # val loss가 최소인 지점에서 early stopping\n",
    "acc_ax.plot(hist.history['accuracy'], 'b', label = 'train acc')\n",
    "acc_ax.plot(hist.history['val_accuracy'], 'g', label = 'val acc')\n",
    "\n",
    "loss_ax.set_xlabel('epoch')\n",
    "loss_ax.set_ylabel('loss')\n",
    "acc_ax.set_ylabel('accuracy')\n",
    "loss_ax.legend(loc = 'upper left')\n",
    "acc_ax.legend(loc = 'lower left')\n",
    "\n",
    "plt.show()"
   ]
  },
  {
   "cell_type": "code",
   "execution_count": 15,
   "id": "69b5d2d3",
   "metadata": {},
   "outputs": [
    {
     "name": "stdout",
     "output_type": "stream",
     "text": [
      "313/313 [==============================] - 2s 7ms/step - loss: 0.0912 - accuracy: 0.9815\n",
      "test_loss :  0.0912306010723114\n",
      "test_acc :  0.9815000295639038\n"
     ]
    }
   ],
   "source": [
    "# model evaluate\n",
    "score = model.evaluate(x_test, y_test, verbose = 1)\n",
    "print('test_loss : ', score[0])\n",
    "print('test_acc : ', score[1])"
   ]
  }
 ],
 "metadata": {
  "kernelspec": {
   "display_name": "Python 3 (ipykernel)",
   "language": "python",
   "name": "python3"
  },
  "language_info": {
   "codemirror_mode": {
    "name": "ipython",
    "version": 3
   },
   "file_extension": ".py",
   "mimetype": "text/x-python",
   "name": "python",
   "nbconvert_exporter": "python",
   "pygments_lexer": "ipython3",
   "version": "3.9.5"
  }
 },
 "nbformat": 4,
 "nbformat_minor": 5
}
