{
 "cells": [
  {
   "cell_type": "code",
   "execution_count": 1,
   "id": "cf28cee2",
   "metadata": {},
   "outputs": [],
   "source": [
    "from tensorflow.keras.datasets import mnist\n",
    "import tensorflow as tf\n",
    "from tensorflow.keras import layers"
   ]
  },
  {
   "cell_type": "code",
   "execution_count": 2,
   "id": "91207d4d",
   "metadata": {},
   "outputs": [],
   "source": [
    "# hyper parameter\n",
    "num_classes = 10\n",
    "epochs = 10\n",
    "batch_size = 100\n",
    "learning_rate = 0.1\n",
    "dropout_rate = 0.5\n",
    "\n",
    "# input image dimensions\n",
    "img_rows, img_cols = 28, 28\n",
    "\n",
    "(x_train, y_train), (x_test, y_test) = mnist.load_data()\n",
    "\n",
    "input_shape = (img_rows, img_cols, 1) # 1-channel, 3차원\n",
    "x_train = x_train.reshape(x_train.shape[0], img_rows, img_cols, 1) # 4차원 변환(60000, 28, 28, 1)\n",
    "x_test = x_test.reshape(x_test.shape[0], img_rows, img_cols, 1) # (10000, 28, 28, 1)"
   ]
  },
  {
   "cell_type": "code",
   "execution_count": 3,
   "id": "4d2d4163",
   "metadata": {},
   "outputs": [
    {
     "name": "stdout",
     "output_type": "stream",
     "text": [
      "x_train shape :  (60000, 28, 28, 1)\n",
      "60000 train samples\n",
      "10000 test samples\n"
     ]
    }
   ],
   "source": [
    "x_train = x_train.astype('float32')\n",
    "x_test = x_test.astype('float32')\n",
    "x_train /= 255\n",
    "x_test /= 255\n",
    "print('x_train shape : ', x_train.shape)\n",
    "print(x_train.shape[0], 'train samples')\n",
    "print(x_test.shape[0], 'test samples')\n",
    "\n",
    "# convert class vectors to binary class matrices -> one-hot encoding\n",
    "y_train = tf.keras.utils.to_categorical(y_train, num_classes)\n",
    "y_test = tf.keras.utils.to_categorical(y_test, num_classes)"
   ]
  },
  {
   "cell_type": "code",
   "execution_count": 4,
   "id": "e0c53c1a",
   "metadata": {},
   "outputs": [
    {
     "name": "stderr",
     "output_type": "stream",
     "text": [
      "C:\\Users\\kbum0\\miniconda3\\lib\\site-packages\\keras\\optimizers\\optimizer_v2\\adadelta.py:79: UserWarning: The `lr` argument is deprecated, use `learning_rate` instead.\n",
      "  super().__init__(name, **kwargs)\n"
     ]
    }
   ],
   "source": [
    "# CNN model design\n",
    "model = tf.keras.Sequential()\n",
    "model.add(layers.Conv2D(16, (5, 5), strides = (1, 1), padding = 'same', # 16 kernels, kernel size = (5, 5), zero padding\n",
    "                       activation = 'relu', input_shape = input_shape, name = 'conv1'))\n",
    "model.add(layers.MaxPooling2D((2, 2), strides = (2, 2), name = 'pool1'))\n",
    "model.add(layers.Conv2D(32, (5, 5), strides = (1, 1), padding = 'same',\n",
    "                       activation = 'relu', name = 'conv2'))\n",
    "model.add(layers.MaxPooling2D((2, 2), strides = (2, 2), name = 'pool2'))\n",
    "\n",
    "# fully connected layer\n",
    "model.add(layers.Flatten())\n",
    "model.add(layers.Dense(128, activation = 'relu'))\n",
    "model.add(layers.Dense(num_classes, activation = 'softmax'))\n",
    "\n",
    "model.compile(loss = tf.keras.losses.categorical_crossentropy, optimizer = tf.keras.optimizers.Adadelta(lr = learning_rate),\n",
    "             metrics = ['accuracy'])"
   ]
  },
  {
   "cell_type": "code",
   "execution_count": 5,
   "id": "efb9f5ee",
   "metadata": {},
   "outputs": [
    {
     "name": "stdout",
     "output_type": "stream",
     "text": [
      "Epoch 1/10\n",
      "480/480 [==============================] - 37s 75ms/step - loss: 0.5728 - accuracy: 0.8372 - val_loss: 0.1929 - val_accuracy: 0.9457\n",
      "Epoch 2/10\n",
      "480/480 [==============================] - 36s 75ms/step - loss: 0.1598 - accuracy: 0.9523 - val_loss: 0.1302 - val_accuracy: 0.9630\n",
      "Epoch 3/10\n",
      "480/480 [==============================] - 36s 75ms/step - loss: 0.1138 - accuracy: 0.9665 - val_loss: 0.1048 - val_accuracy: 0.9697\n",
      "Epoch 4/10\n",
      "480/480 [==============================] - 36s 75ms/step - loss: 0.0926 - accuracy: 0.9725 - val_loss: 0.0871 - val_accuracy: 0.9749\n",
      "Epoch 5/10\n",
      "480/480 [==============================] - 36s 75ms/step - loss: 0.0783 - accuracy: 0.9770 - val_loss: 0.0777 - val_accuracy: 0.9771\n",
      "Epoch 6/10\n",
      "480/480 [==============================] - 37s 76ms/step - loss: 0.0691 - accuracy: 0.9796 - val_loss: 0.0699 - val_accuracy: 0.9782\n",
      "Epoch 7/10\n",
      "480/480 [==============================] - 35s 74ms/step - loss: 0.0619 - accuracy: 0.9811 - val_loss: 0.0677 - val_accuracy: 0.9804\n",
      "Epoch 8/10\n",
      "480/480 [==============================] - 36s 76ms/step - loss: 0.0559 - accuracy: 0.9831 - val_loss: 0.0652 - val_accuracy: 0.9799\n",
      "Epoch 9/10\n",
      "480/480 [==============================] - 36s 76ms/step - loss: 0.0517 - accuracy: 0.9843 - val_loss: 0.0633 - val_accuracy: 0.9816\n",
      "Epoch 10/10\n",
      "480/480 [==============================] - 36s 76ms/step - loss: 0.0478 - accuracy: 0.9854 - val_loss: 0.0597 - val_accuracy: 0.9817\n",
      "313/313 [==============================] - 4s 10ms/step - loss: 0.0475 - accuracy: 0.9841\n",
      " - test_loss:  0.04753538966178894  - test_acc:  0.9840999841690063\n"
     ]
    }
   ],
   "source": [
    "early_stop = tf.keras.callbacks.EarlyStopping(monitor = 'val_loss', patience = 3)\n",
    "hist = model.fit(x_train, y_train, batch_size = batch_size, epochs = epochs, validation_split = 0.2,\n",
    "                callbacks = [early_stop], shuffle = True, verbose = 1)\n",
    "score = model.evaluate(x_test, y_test, verbose = 1)\n",
    "print(' - test_loss: ', score[0], ' - test_acc: ', score[1])\n",
    "model.save(\"cnn_mnist.h5\")"
   ]
  },
  {
   "cell_type": "code",
   "execution_count": 8,
   "id": "84647e3a",
   "metadata": {},
   "outputs": [
    {
     "name": "stdout",
     "output_type": "stream",
     "text": [
      "Model: \"sequential\"\n",
      "_________________________________________________________________\n",
      " Layer (type)                Output Shape              Param #   \n",
      "=================================================================\n",
      " conv1 (Conv2D)              (None, 28, 28, 16)        416       \n",
      "                                                                 \n",
      " pool1 (MaxPooling2D)        (None, 14, 14, 16)        0         \n",
      "                                                                 \n",
      " conv2 (Conv2D)              (None, 14, 14, 32)        12832     \n",
      "                                                                 \n",
      " pool2 (MaxPooling2D)        (None, 7, 7, 32)          0         \n",
      "                                                                 \n",
      " flatten (Flatten)           (None, 1568)              0         \n",
      "                                                                 \n",
      " dense (Dense)               (None, 128)               200832    \n",
      "                                                                 \n",
      " dense_1 (Dense)             (None, 10)                1290      \n",
      "                                                                 \n",
      "=================================================================\n",
      "Total params: 215,370\n",
      "Trainable params: 215,370\n",
      "Non-trainable params: 0\n",
      "_________________________________________________________________\n"
     ]
    }
   ],
   "source": [
    "model.summary()"
   ]
  },
  {
   "cell_type": "code",
   "execution_count": 9,
   "id": "e9cd0ac3",
   "metadata": {},
   "outputs": [],
   "source": [
    "import matplotlib.pyplot as plt"
   ]
  },
  {
   "cell_type": "code",
   "execution_count": 10,
   "id": "2e80f164",
   "metadata": {},
   "outputs": [
    {
     "data": {
      "image/png": "[encoded data removed]",
      "text/plain": [
       "<Figure size 1080x360 with 2 Axes>"
      ]
     },
     "metadata": {
      "needs_background": "light"
     },
     "output_type": "display_data"
    }
   ],
   "source": [
    "fig, loss_ax = plt.subplots(figsize = (15, 5))\n",
    "acc_ax = loss_ax.twinx()\n",
    "\n",
    "loss_ax.plot(hist.history['loss'], 'y', label = 'train loss')\n",
    "loss_ax.plot(hist.history['val_loss'], 'r', label = 'val loss') # val loss가 계속 감소하므로 학습을 더 진행하면 성능개선 가능하다\n",
    "acc_ax.plot(hist.history['accuracy'], 'b', label = 'train acc')\n",
    "acc_ax.plot(hist.history['val_accuracy'], 'g', label = 'val acc')\n",
    "\n",
    "loss_ax.set_xlabel('epoch')\n",
    "loss_ax.set_ylabel('loss')\n",
    "acc_ax.set_ylabel('accuracy')\n",
    "loss_ax.legend(loc = 'upper left')\n",
    "acc_ax.legend(loc = 'lower left')\n",
    "\n",
    "plt.show()"
   ]
  }
 ],
 "metadata": {
  "kernelspec": {
   "display_name": "Python 3 (ipykernel)",
   "language": "python",
   "name": "python3"
  },
  "language_info": {
   "codemirror_mode": {
    "name": "ipython",
    "version": 3
   },
   "file_extension": ".py",
   "mimetype": "text/x-python",
   "name": "python",
   "nbconvert_exporter": "python",
   "pygments_lexer": "ipython3",
   "version": "3.9.5"
  }
 },
 "nbformat": 4,
 "nbformat_minor": 5
}
